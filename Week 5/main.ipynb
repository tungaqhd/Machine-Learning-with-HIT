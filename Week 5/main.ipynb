{
 "cells": [
  {
   "cell_type": "code",
   "execution_count": 1,
   "metadata": {},
   "outputs": [],
   "source": [
    "import numpy as np\n",
    "import pandas as pd\n",
    "import matplotlib.pyplot as plt"
   ]
  },
  {
   "cell_type": "code",
   "execution_count": 2,
   "metadata": {},
   "outputs": [],
   "source": [
    "data = pd.read_csv('data.csv')\n",
    "X = np.array(data.iloc[:, 1:-1])\n",
    "y = np.array(data.iloc[:, -1])"
   ]
  },
  {
   "cell_type": "code",
   "execution_count": 3,
   "metadata": {},
   "outputs": [],
   "source": [
    "lr = .00001\n",
    "epochs = 2000\n",
    "w1, w2, w3 = 1, 1, 1\n",
    "N = float(len(X))\n",
    "loss = []"
   ]
  },
  {
   "cell_type": "code",
   "execution_count": 4,
   "metadata": {},
   "outputs": [],
   "source": [
    "def predict(x1, x2, x3):\n",
    "    return w1*x1 + w2*x2 + w3*x3"
   ]
  },
  {
   "cell_type": "code",
   "execution_count": 5,
   "metadata": {},
   "outputs": [],
   "source": [
    "for i in range(epochs):\n",
    "    y_pre = w1*X[:, 0] + w2*X[:, 1] + w3*X[:, 2]\n",
    "    loss.append(abs(sum(y - y_pre)))\n",
    "    update_1 = (-2/N) * sum(X[:, 0] * (y - y_pre))\n",
    "    update_2 = (-2/N) * sum(X[:, 1] * (y - y_pre))\n",
    "    update_3 = (-2/N) * sum(X[:, 2] * (y - y_pre))\n",
    "    w1 = w1 - lr * update_1\n",
    "    w2 = w2 - lr * update_2\n",
    "    w3 = w3 - lr * update_3"
   ]
  },
  {
   "cell_type": "code",
   "execution_count": 6,
   "metadata": {},
   "outputs": [
    {
     "name": "stdout",
     "output_type": "stream",
     "text": [
      "0.030997611197799684 0.28949707551437 0.060340092753570086\n"
     ]
    }
   ],
   "source": [
    "print(w1, w2, w3)"
   ]
  },
  {
   "cell_type": "code",
   "execution_count": 7,
   "metadata": {},
   "outputs": [
    {
     "data": {
      "image/png": "[encoded data removed]",
      "text/plain": [
       "<Figure size 432x288 with 1 Axes>"
      ]
     },
     "metadata": {
      "needs_background": "light"
     },
     "output_type": "display_data"
    }
   ],
   "source": [
    "plt.plot(loss)\n",
    "plt.xlabel('Training Iterations')\n",
    "plt.ylabel('Mean Squared Error')\n",
    "plt.title('Error Rate')\n",
    "plt.show()"
   ]
  }
 ],
 "metadata": {
  "kernelspec": {
   "display_name": "Python 3",
   "language": "python",
   "name": "python3"
  },
  "language_info": {
   "codemirror_mode": {
    "name": "ipython",
    "version": 3
   },
   "file_extension": ".py",
   "mimetype": "text/x-python",
   "name": "python",
   "nbconvert_exporter": "python",
   "pygments_lexer": "ipython3",
   "version": "3.7.3"
  }
 },
 "nbformat": 4,
 "nbformat_minor": 2
}
